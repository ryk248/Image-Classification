{
 "cells": [
  {
   "cell_type": "markdown",
   "metadata": {},
   "source": [
    "Name - Rahul Keshwani\n",
    "NetID - ryk248\n",
    "\n",
    "Name - Arun Kodnani\n",
    "NetID - ak6484"
   ]
  },
  {
   "cell_type": "markdown",
   "metadata": {
    "colab_type": "text",
    "id": "tLETAxwHuR89"
   },
   "source": [
    "# Setup"
   ]
  },
  {
   "cell_type": "code",
   "execution_count": 0,
   "metadata": {
    "colab": {},
    "colab_type": "code",
    "collapsed": true,
    "id": "hRh5h2QyaQ4f"
   },
   "outputs": [],
   "source": [
    "# http://pytorch.org/\n",
    "from os import path\n",
    "from wheel.pep425tags import get_abbr_impl, get_impl_ver, get_abi_tag\n",
    "platform = '{}{}-{}'.format(get_abbr_impl(), get_impl_ver(), get_abi_tag())\n",
    "\n",
    "accelerator = 'cu80' if path.exists('/opt/bin/nvidia-smi') else 'cpu'\n",
    "\n",
    "!pip install -q http://download.pytorch.org/whl/{accelerator}/torch-0.3.0.post4-{platform}-linux_x86_64.whl torchvision"
   ]
  },
  {
   "cell_type": "markdown",
   "metadata": {
    "colab_type": "text",
    "id": "eQtl9ZSvuevs"
   },
   "source": [
    "# Imports"
   ]
  },
  {
   "cell_type": "code",
   "execution_count": 0,
   "metadata": {
    "colab": {},
    "colab_type": "code",
    "collapsed": true,
    "id": "WjVqEsiibN8D"
   },
   "outputs": [],
   "source": [
    "import torch\n",
    "import torchvision\n",
    "import torchvision.transforms as transforms\n",
    "import matplotlib.pyplot as plt\n",
    "import numpy as np\n",
    "import sys\n",
    "import random\n",
    "from sklearn.metrics import accuracy_score\n",
    "import pandas as pd\n",
    "import matplotlib.pyplot as plt\n",
    "from google.colab import files\n",
    "plt.style.use('fivethirtyeight')"
   ]
  },
  {
   "cell_type": "markdown",
   "metadata": {
    "colab_type": "text",
    "id": "edcmWLBsug-f"
   },
   "source": [
    "# Utility class for fetching data"
   ]
  },
  {
   "cell_type": "code",
   "execution_count": 0,
   "metadata": {
    "colab": {},
    "colab_type": "code",
    "collapsed": true,
    "id": "zVeIz6dXuoev"
   },
   "outputs": [],
   "source": [
    "class Data():\n",
    " \n",
    "  def __init__(self):\n",
    "    self.transform = transforms.Compose([transforms.ToTensor(),transforms.Normalize((0.5, 0.5, 0.5), (0.5, 0.5, 0.5))])\n",
    "\n",
    "    self.trainset = torchvision.datasets.CIFAR10(root='./data', train=True, download=True, transform=self.transform)\n",
    "    self.Xtrain, self.ytrain = self.splitXandY(self.trainset)\n",
    "\n",
    "    self.testset = torchvision.datasets.CIFAR10(root='./data', train=False, download=True, transform=self.transform)\n",
    "    self.Xtest, self.ytest = self.splitXandY(self.testset)\n",
    "    \n",
    "  def splitXandY(self, data):\n",
    "    x = []\n",
    "    y = []\n",
    "    for image in data:\n",
    "      x.append(image[0].numpy().flatten())\n",
    "      y.append(image[1])\n",
    "    x = np.array(x)\n",
    "    y = np.array(y)\n",
    "    return x,y\n",
    "    \n",
    "  def get_xtrain(self):\n",
    "    return self.Xtrain\n",
    "  \n",
    "  def get_ytrain(self):\n",
    "    return self.ytrain\n",
    "  \n",
    "  def get_xtest(self):\n",
    "    return self.Xtest\n",
    "  \n",
    "  def get_ytest(self):\n",
    "    return self.ytest\n",
    "  \n",
    "  def load_data(self):\n",
    "    Xtrain = self.get_xtrain()\n",
    "    ytrain = self.get_ytrain()\n",
    "    Xtest = self.get_xtest()\n",
    "    ytest = self.get_ytest()\n",
    "    return (Xtrain, ytrain, Xtest, ytest)\n",
    "    "
   ]
  },
  {
   "cell_type": "markdown",
   "metadata": {
    "colab_type": "text",
    "id": "iGT7vrJcuqHY"
   },
   "source": [
    "# Neural Network Class"
   ]
  },
  {
   "cell_type": "code",
   "execution_count": 0,
   "metadata": {
    "colab": {},
    "colab_type": "code",
    "collapsed": true,
    "id": "tpwVavldh_R8"
   },
   "outputs": [],
   "source": [
    "#  Block for functions and classes.\n",
    "def save_predictions(filename, y):\n",
    "  \"\"\"\n",
    "  Dumps y into .npy file\n",
    "  \"\"\"\n",
    "  np.save(filename, y)\n",
    "\n",
    "class NeuralNetwork(object):\n",
    "  def __init__(self, layer_dimensions, drop_prob=0.0, reg_lambda=0.0):\n",
    "    np.random.seed(1)\n",
    "    \n",
    "    self.parameters = {}\n",
    "    for i in range(1,len(layer_dimensions)):\n",
    "      self.parameters[i] = [np.random.randn(layer_dimensions[i], layer_dimensions[i-1])*0.01, np.zeros((layer_dimensions[i], 1))]\n",
    "      \n",
    "    self.num_layers = len(layer_dimensions)\n",
    "    self.drop_prob = drop_prob\n",
    "    self.reg_lambda = reg_lambda\n",
    "    \n",
    "    \n",
    "  def generateClassVector(self, y):\n",
    "    result = np.zeros(shape=(10,y.shape[0]))\n",
    "    result[y, range(y.shape[0])] = 1\n",
    "    return result\n",
    "  \n",
    "  def affineForward(self, A, W, b):\n",
    "    Z = np.dot(W,A) + b\n",
    "    \n",
    "    cache = (A, W, b, Z)\n",
    "    return Z, cache\n",
    "\n",
    "  def activationForward(self, A, activation): \n",
    "    if activation == 'relu':\n",
    "      return np.maximum(0, A)\n",
    "    \n",
    "    if activation == 'softmax':\n",
    "      y = np.exp(A - np.max(A))\n",
    "      return y/y.sum(axis=0)\n",
    "  \n",
    "  def forwardPropagation(self, X):\n",
    "    allCache = []\n",
    "    A = X\n",
    "    for layer in range(1,self.num_layers-1):\n",
    "      Z, cache = self.affineForward(A, self.parameters[layer][0], self.parameters[layer][1])\n",
    "      A = self.activationForward(Z, 'relu')\n",
    "      allCache.append(cache)      \n",
    "  \n",
    "    ZL, last_cache = self.affineForward(A, self.parameters[self.num_layers-1][0], self.parameters[self.num_layers-1][1])\n",
    "    AL = self.activationForward(ZL, 'softmax')\n",
    "    allCache.append(last_cache)\n",
    "    return AL, allCache\n",
    "  \n",
    "  def costFunctions(self, AL, y):\n",
    "    correct_prob = AL[y, range(y.shape[0])]\n",
    "    cost = -np.sum(np.log(correct_prob))/y.shape[0]\n",
    "    cost = np.squeeze(cost)\n",
    "      \n",
    "    dAL = AL - self.generateClassVector(y)\n",
    "    return cost, dAL\n",
    "  \n",
    "  def affineBackward(self, dA_prev, cache):\n",
    "    A, W, b, Z = cache\n",
    "    dW = np.dot(dA_prev, A.T)/A.shape[1] \n",
    "    dB = np.sum(dA_prev, axis=1, keepdims=True)/A.shape[1]\n",
    "    dA = np.dot(W.T, dA_prev )\n",
    "    gradients = [dW, dB]\n",
    "    return dA, gradients\n",
    "  \n",
    "  def activationBackward(self, dA, cache, activation=\"relu\"):\n",
    "    A, W, b, Z = cache\n",
    "    return self.relu_derivative(dA, Z)                \n",
    "    \n",
    "  def relu_derivative(self, dx, cached_x):\n",
    "    dx[cached_x < 0] = 0\n",
    "    return dx;\n",
    "  \n",
    "  def backPropagation(self, dAL, Y, cache):\n",
    "    gradients = {}\n",
    "    cacheLength = len(cache)\n",
    "    dAL_prev, gradients[self.num_layers - 1] = self.affineBackward(dAL, cache[cacheLength-1])\n",
    "                \n",
    "    for layer in range(self.num_layers-2, 0, -1):\n",
    "      dZ_prev = self.activationBackward(dAL_prev, cache[layer-1])\n",
    "      dAL_prev, gradients[layer] = self.affineBackward(dZ_prev, cache[layer-1])\n",
    "      \n",
    "    return gradients\n",
    "  \n",
    "  def updateParameters(self, gradients, alpha):\n",
    "    for layer in range(1,self.num_layers):\n",
    "      dW, dB = gradients[layer]\n",
    "      W, b = self.parameters[layer]\n",
    "      W = W - alpha*dW\n",
    "      b = b - alpha*dB\n",
    "      self.parameters[layer][0] = W\n",
    "      self.parameters[layer][1] = b\n",
    "    \n",
    "  def train(self, X, y, iters, alpha, batch_size, print_every):\n",
    "    randomizer = np.array(range(X.shape[0]))\n",
    "    random.shuffle(randomizer)\n",
    "\n",
    "    self.iterationCost = pd.DataFrame(columns=['cost'])\n",
    "    \n",
    "    for i in range(iters):\n",
    "      for k in range((int)(X.shape[0]/batch_size)):\n",
    "        inputX = [X[x] for x in randomizer[(k*batch_size): (k*batch_size + batch_size)].tolist()]\n",
    "        inputY = [y[x] for x in randomizer[(k*batch_size): (k*batch_size + batch_size)].tolist()]\n",
    "        inputX = np.array(inputX)\n",
    "        inputY = np.array(inputY)\n",
    "        \n",
    "        AL, allCache = self.forwardPropagation(inputX.T)\n",
    "         \n",
    "        cost, dAL = self.costFunctions(AL, inputY)\n",
    "        \n",
    "        gradients = self.backPropagation(dAL, inputY, allCache)\n",
    "        \n",
    "        self.updateParameters(gradients, alpha)\n",
    "      \n",
    "      self.iterationCost.loc[i] = cost\n",
    "      if i % print_every == print_every-1:\n",
    "        print(\"Last cost after iteration\", i, \":\", cost)    \n",
    "  \n",
    "  def predict(self, X):\n",
    "    predicted, cache = self.forwardPropagation(X)\n",
    "    predicted = self.activationForward(predicted, 'softmax')\n",
    "    predicted_label = []\n",
    "    for i in range(predicted.shape[1]):\n",
    "      max_prob = max(predicted[:,i])\n",
    "      predicted_label.append(list(predicted[:,i]).index(max_prob))\n",
    "    return predicted_label\n",
    "  \n",
    "  def summary(self):  \n",
    "    print(\"Layer\\tShape\\tParameters\")\n",
    "    for layer in self.parameters:\n",
    "      shapes = str(self.parameters[layer][1].shape[0])\n",
    "      parameters = self.parameters[layer][0].shape[0]*self.parameters[layer][0].shape[1]+self.parameters[layer][1].shape[0]\n",
    "      print(layer,\"\\t\", shapes,\"\\t\", parameters)\n",
    "    \n",
    "    self.iterationCost.plot(title='Loss Vs Iterations')"
   ]
  },
  {
   "cell_type": "markdown",
   "metadata": {
    "colab_type": "text",
    "id": "WcsLVXN8ct5s"
   },
   "source": [
    "# Loading the data\n",
    "\n"
   ]
  },
  {
   "cell_type": "code",
   "execution_count": 5,
   "metadata": {
    "colab": {
     "base_uri": "https://localhost:8080/",
     "height": 51
    },
    "colab_type": "code",
    "id": "DU9-kdMXbyUq",
    "outputId": "76655abb-208d-4de7-faf1-a6a8ef6b7b2c"
   },
   "outputs": [
    {
     "name": "stdout",
     "output_type": "stream",
     "text": [
      "Downloading https://www.cs.toronto.edu/~kriz/cifar-10-python.tar.gz to ./data/cifar-10-python.tar.gz\n",
      "Files already downloaded and verified\n"
     ]
    }
   ],
   "source": [
    "obj = Data()\n",
    "Xtrain, ytrain, Xtest, ytest = obj.load_data()"
   ]
  },
  {
   "cell_type": "code",
   "execution_count": 6,
   "metadata": {
    "colab": {
     "base_uri": "https://localhost:8080/",
     "height": 798
    },
    "colab_type": "code",
    "id": "K4C8fOzNDtK9",
    "outputId": "1bd31823-739c-4474-efe2-731e84f33df8"
   },
   "outputs": [
    {
     "name": "stdout",
     "output_type": "stream",
     "text": [
      "Last cost after iteration 9 : 2.2796301717421397\n",
      "Last cost after iteration 19 : 2.114793067567329\n",
      "Last cost after iteration 29 : 1.9599712922880863\n",
      "Last cost after iteration 39 : 1.875005220840953\n",
      "Last cost after iteration 49 : 1.7658571131993086\n",
      "Last cost after iteration 59 : 1.680011513648965\n",
      "Last cost after iteration 69 : 1.6199667813535832\n",
      "Last cost after iteration 79 : 1.5732004946478326\n",
      "Last cost after iteration 89 : 1.5382875144151456\n",
      "Last cost after iteration 99 : 1.5056067924757324\n",
      "Last cost after iteration 109 : 1.4746092793802947\n",
      "Last cost after iteration 119 : 1.4447315014164857\n",
      "Last cost after iteration 129 : 1.4165190391591722\n",
      "Last cost after iteration 139 : 1.3920144069507112\n",
      "Last cost after iteration 149 : 1.3701252086535007\n",
      "Last cost after iteration 159 : 1.3494698437095127\n",
      "Last cost after iteration 169 : 1.3282786263406243\n",
      "Last cost after iteration 179 : 1.3072009394084687\n",
      "Last cost after iteration 189 : 1.2877188429681843\n",
      "Last cost after iteration 199 : 1.2682611815811744\n",
      "Layer\tShape\tParameters\n",
      "1 \t 512 \t 1573376\n",
      "2 \t 256 \t 131328\n",
      "3 \t 10 \t 2570\n"
     ]
    },
    {
     "data": {
      "image/png": "[encoded data removed]",
      "text/plain": [
       "<matplotlib.figure.Figure at 0x7fc3b8cb39e8>"
      ]
     },
     "metadata": {
      "tags": []
     },
     "output_type": "display_data"
    }
   ],
   "source": [
    "layers = [Xtrain.shape[1], 512, 256, 10]\n",
    "nn = NeuralNetwork(layers)\n",
    "nn.train(Xtrain, ytrain, 200, 0.001, 100, 10)\n",
    "nn.summary()"
   ]
  },
  {
   "cell_type": "code",
   "execution_count": 0,
   "metadata": {
    "colab": {},
    "colab_type": "code",
    "collapsed": true,
    "id": "D5UJ0__Cg1ls"
   },
   "outputs": [],
   "source": [
    "pLabels = nn.predict(Xtest.T)\n",
    "save_predictions('ans1-ryk248.npy', pLabels)\n",
    "save_predictions('ans1-ak6384.npy', pLabels)"
   ]
  },
  {
   "cell_type": "code",
   "execution_count": 13,
   "metadata": {
    "colab": {
     "base_uri": "https://localhost:8080/",
     "height": 34
    },
    "colab_type": "code",
    "id": "vjvg2lw6mn6G",
    "outputId": "320ed89a-7ffb-45a5-9cc9-891efdfee88e"
   },
   "outputs": [
    {
     "name": "stdout",
     "output_type": "stream",
     "text": [
      "Accuracy =  52.690000000000005 %\n"
     ]
    }
   ],
   "source": [
    "print(\"Accuracy = \", accuracy_score(pLabels,ytest)*100, \"%\")"
   ]
  },
  {
   "cell_type": "code",
   "execution_count": 0,
   "metadata": {
    "colab": {},
    "colab_type": "code",
    "collapsed": true,
    "id": "JBhUM5NEuCvy"
   },
   "outputs": [],
   "source": [
    "files.download('ans1-ryk248.npy')\n",
    "files.download('ans1-ak6384.npy')"
   ]
  },
  {
   "cell_type": "code",
   "execution_count": 0,
   "metadata": {
    "colab": {},
    "colab_type": "code",
    "collapsed": true,
    "id": "-876Zy8hNhbI"
   },
   "outputs": [],
   "source": []
  }
 ],
 "metadata": {
  "accelerator": "GPU",
  "colab": {
   "collapsed_sections": [],
   "name": "HW1-fullyConnected-ryk248",
   "provenance": [],
   "version": "0.3.2"
  },
  "kernelspec": {
   "display_name": "Python 3",
   "language": "python",
   "name": "python3"
  },
  "language_info": {
   "codemirror_mode": {
    "name": "ipython",
    "version": 3
   },
   "file_extension": ".py",
   "mimetype": "text/x-python",
   "name": "python",
   "nbconvert_exporter": "python",
   "pygments_lexer": "ipython3",
   "version": "3.6.2"
  }
 },
 "nbformat": 4,
 "nbformat_minor": 1
}
